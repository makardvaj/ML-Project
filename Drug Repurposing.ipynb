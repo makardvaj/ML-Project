{
 "cells": [
  {
   "cell_type": "code",
   "execution_count": null,
   "metadata": {},
   "outputs": [],
   "source": [
    "# 1. Data loading\n",
    "\n",
    "import pandas as pd\n",
    "drugs = pd.read_csv('data/drugs.csv')\n",
    "diseases = pd.read_csv('data/diseases.csv')\n",
    "assoc = pd.read_csv('data/associations.csv')"
   ]
  },
  {
   "cell_type": "code",
   "execution_count": null,
   "metadata": {},
   "outputs": [],
   "source": [
    "# 2. Feature Engineering\n",
    "\n",
    "from rdkit import Chem\n",
    "from rdkit.Chem import AllChem\n",
    "from sklearn.feature_extraction.text import TfidfVectorizer\n",
    "import numpy as np\n",
    "\n",
    "# Drug fingerprint generation (a 1024-bit string)\n",
    "def mol_to_fp(smiles):\n",
    "    mol = Chem.MolFromSmiles(smiles)\n",
    "    if mol:\n",
    "        return AllChem.GetMorganFingerprintAsBitVect(mol, 2, nBits = 1024)\n",
    "    else :\n",
    "        return np.zeros(1024)\n",
    "\n",
    "drug_fps = np.array([np.array(mol_to_fps(s)) for s in drugs['smiles]']])\n",
    "\n",
    "# Disease text encoding\n",
    "vectoriser = TfidfVectorizer(max_features = 300)\n",
    "disease_vecs = vectoriser.fit_transform(diseases['description']).toarray()"
   ]
  },
  {
   "cell_type": "code",
   "execution_count": null,
   "metadata": {},
   "outputs": [],
   "source": [
    "# 3. Merge and Prepare for training\n",
    "\n",
    "merged = assoc.merge(drugs, on = 'drug_name').merge(diseases, on = 'disease_name')\n",
    "X = []\n",
    "Y = merged['label']\n",
    "\n",
    "for _, row in merged.iterrows() :\n",
    "    drug_vec = mol_to_fp(row['smails'])\n",
    "    disease_vec = vectoriser.transform([row['description']]).toarray().flatten()\n",
    "    x.append(np.concatenate([drug_vec, disease_vec]))\n",
    "\n",
    "x = np.array(X)"
   ]
  },
  {
   "cell_type": "code",
   "execution_count": null,
   "metadata": {},
   "outputs": [],
   "source": [
    "# 4. Train Model\n",
    "\n",
    "from sklearn.model_selection import train_test_split\n",
    "from sklearn.ensemble import RandomForestClassifier\n",
    "from sklearn.metrics import roc_auc_score, accuracy_score, confusion_matrix\n",
    "\n",
    "X_train, X_test, y_train, y_test = train_test_split(X, y, test_size = 0.2, random_state = 42)\n",
    "\n",
    "model = RandomForestClassifier(n_estimators = 200, random_state = 42)\n",
    "model.fit(X_train, y_train)\n",
    "\n",
    "y_pred = model.predict(X_test)\n",
    "print(\"Accuracy : \", accuracy_score(y_test, y_pred))\n",
    "print(\"ROC-AUC : \", roc_auc_score(y_test, model.predict_proba(X_test)[:, 1]))"
   ]
  },
  {
   "cell_type": "code",
   "execution_count": null,
   "metadata": {},
   "outputs": [],
   "source": [
    "# 5. Evaluation Plots\n",
    "\n",
    "import matplotlib.pyplot as plt\n",
    "import seaborn as sns\n",
    "from sklearn.metrics import roc_curve\n",
    "\n",
    "# ROC Curve\n",
    "fpr, tpr, _ = roc_curve(y_test, model.predict_proba(X_test)[:, 1])\n",
    "plt.plot(fpr, tpr)\n",
    "plt.title('ROC Curve')\n",
    "plt.show()\n",
    "\n",
    "# Confusion Matrix\n",
    "sns.heatmap(confusion_matrix(y_test, y_prod), annot = True, fmt = 'd', cmap = 'Blues')\n",
    "plt.title('Confusion Matrix')\n",
    "plt.show()"
   ]
  }
 ],
 "metadata": {
  "language_info": {
   "name": "python"
  },
  "orig_nbformat": 4
 },
 "nbformat": 4,
 "nbformat_minor": 2
}
